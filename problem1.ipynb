{
 "cells": [
  {
   "cell_type": "code",
   "execution_count": 1,
   "metadata": {},
   "outputs": [
    {
     "name": "stdout",
     "output_type": "stream",
     "text": [
      "Enter numbers separated by space: 1 2 3 4 5\n",
      "The element nearest to the average is at position 2\n"
     ]
    }
   ],
   "source": [
    "def main():\n",
    "    nums = list(map(int, input(\"Enter numbers separated by space: \").split()))\n",
    "\n",
    "    avg = average(nums)\n",
    "    nearest = find_nearest(nums, avg)\n",
    "    position = nums.index(nearest)\n",
    "\n",
    "    print(f\"The element nearest to the average is at position {position}\")\n",
    "\n",
    "def average(lst):\n",
    "    return sum(lst) / len(lst)\n",
    "\n",
    "def find_nearest(nums, avg):\n",
    "    smallest = float('inf')\n",
    "    for num in nums:\n",
    "        if abs(num - avg) < smallest:\n",
    "            smallest = abs(num - avg)\n",
    "            nearest = num\n",
    "    return nearest\n",
    "\n",
    "main()\n"
   ]
  },
  {
   "cell_type": "code",
   "execution_count": null,
   "metadata": {},
   "outputs": [],
   "source": []
  }
 ],
 "metadata": {
  "kernelspec": {
   "display_name": "Python 3 (ipykernel)",
   "language": "python",
   "name": "python3"
  },
  "language_info": {
   "codemirror_mode": {
    "name": "ipython",
    "version": 3
   },
   "file_extension": ".py",
   "mimetype": "text/x-python",
   "name": "python",
   "nbconvert_exporter": "python",
   "pygments_lexer": "ipython3",
   "version": "3.11.5"
  }
 },
 "nbformat": 4,
 "nbformat_minor": 2
}
