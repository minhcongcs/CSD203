{
 "cells": [
  {
   "cell_type": "code",
   "execution_count": null,
   "id": "eb223d61",
   "metadata": {},
   "outputs": [],
   "source": [
    "def convert_grade(decimal_grade):\n",
    "    grade_dict = {\n",
    "        8.5: (\"A\", 4.0),\n",
    "        7: (\"B\", 3.5),\n",
    "        5.5: (\"C\", 2.5),\n",
    "        4.0: (\"D\", 1.5),\n",
    "        0: (\"F\", 0.0)\n",
    "    }\n",
    "    for key in sorted(grade_dict.keys(), reverse=True):\n",
    "        if decimal_grade >= key:\n",
    "            return grade_dict[key]\n",
    "    return \"Invalid input. Please enter a grade between 0 and 10.\"\n",
    "\n",
    "decimal_grade = float(input(\"Enter the grade in decimal system: \"))\n",
    "alpha_grade, four_point_grade = convert_grade(decimal_grade)\n",
    "print(f\"The corresponding grade in alphabetic system is {alpha_grade} and in 4-point system is {four_point_grade}.\")\n"
   ]
  },
  {
   "cell_type": "code",
   "execution_count": null,
   "id": "0e8b8c7b",
   "metadata": {},
   "outputs": [],
   "source": []
  },
  {
   "cell_type": "code",
   "execution_count": null,
   "id": "e0f9e2f8",
   "metadata": {},
   "outputs": [],
   "source": []
  },
  {
   "cell_type": "code",
   "execution_count": null,
   "id": "4b82052b",
   "metadata": {},
   "outputs": [],
   "source": []
  }
 ],
 "metadata": {
  "kernelspec": {
   "display_name": "Python 3 (ipykernel)",
   "language": "python",
   "name": "python3"
  },
  "language_info": {
   "codemirror_mode": {
    "name": "ipython",
    "version": 3
   },
   "file_extension": ".py",
   "mimetype": "text/x-python",
   "name": "python",
   "nbconvert_exporter": "python",
   "pygments_lexer": "ipython3",
   "version": "3.11.5"
  }
 },
 "nbformat": 4,
 "nbformat_minor": 5
}
